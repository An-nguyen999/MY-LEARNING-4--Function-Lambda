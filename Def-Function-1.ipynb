{
 "cells": [
  {
   "cell_type": "markdown",
   "id": "ee6490a8",
   "metadata": {},
   "source": [
    "Link: https://www.youtube.com/watch?v=52hpAnW8jqI"
   ]
  },
  {
   "cell_type": "code",
   "execution_count": 1,
   "id": "0acbb39c",
   "metadata": {},
   "outputs": [
    {
     "data": {
      "text/plain": [
       "11"
      ]
     },
     "execution_count": 1,
     "metadata": {},
     "output_type": "execute_result"
    }
   ],
   "source": [
    "def cong (x,y):\n",
    "    return x+y\n",
    "cong(5,6)"
   ]
  },
  {
   "cell_type": "code",
   "execution_count": 4,
   "id": "e96e90ac",
   "metadata": {},
   "outputs": [
    {
     "name": "stdout",
     "output_type": "stream",
     "text": [
      "nhap x: 5\n",
      "nhap y: 7\n"
     ]
    },
    {
     "data": {
      "text/plain": [
       "12"
      ]
     },
     "execution_count": 4,
     "metadata": {},
     "output_type": "execute_result"
    }
   ],
   "source": [
    "#input x và y vào từ users\n",
    "x = int(input(\"nhap x: \"))\n",
    "y = int(input(\"nhap y: \"))\n",
    "cong(x,y)"
   ]
  },
  {
   "cell_type": "code",
   "execution_count": 22,
   "id": "aba6a4ef",
   "metadata": {},
   "outputs": [
    {
     "name": "stdout",
     "output_type": "stream",
     "text": [
      "PT 0x+0 co Vo so nghiem\n"
     ]
    }
   ],
   "source": [
    "#ví dụ cơ bản về phương trình bậc nhất\n",
    "\n",
    "def PTB1(a,b):\n",
    "    if a==0 and b==0:\n",
    "        return f\"PT {a}x+{b} co Vo so nghiem\"\n",
    "    elif a ==0 and b!=0:\n",
    "        return f\"PT {a}x+{b} Vo nghiem\"\n",
    "    else:\n",
    "        return f\"Nghiem cua PT {a}x+{b} la:\"+\"x={}\".format(-b/a)\n",
    "    \n",
    "print(PTB1(0,0))"
   ]
  },
  {
   "cell_type": "code",
   "execution_count": 23,
   "id": "035bfda5",
   "metadata": {},
   "outputs": [
    {
     "name": "stdout",
     "output_type": "stream",
     "text": [
      "nhap chuoi: An xinh dep\n",
      "An xinh dep\n"
     ]
    }
   ],
   "source": [
    "#ví dụ 2: hàm không có đối số\n",
    "\n",
    "def xuatchuoi(chuoi):\n",
    "    print(chuoi)\n",
    "    \n",
    "chuoi = input('nhap chuoi: ')\n",
    "xuatchuoi(chuoi)"
   ]
  },
  {
   "cell_type": "code",
   "execution_count": 29,
   "id": "42640518",
   "metadata": {},
   "outputs": [
    {
     "data": {
      "text/plain": [
       "True"
      ]
     },
     "execution_count": 29,
     "metadata": {},
     "output_type": "execute_result"
    }
   ],
   "source": [
    "(6-2)/2 >= 0"
   ]
  },
  {
   "cell_type": "code",
   "execution_count": 38,
   "id": "a7698fdb",
   "metadata": {},
   "outputs": [
    {
     "name": "stdout",
     "output_type": "stream",
     "text": [
      "Doanh thu: 100\n",
      "Chi phi: 60\n"
     ]
    },
    {
     "data": {
      "text/plain": [
       "'Khong nen dau tu, se lo nha!!! Roi(R) bang:0.6666666666666666'"
      ]
     },
     "execution_count": 38,
     "metadata": {},
     "output_type": "execute_result"
    }
   ],
   "source": [
    "#ví dụ 3: viết hàm đầu tư hay không?\n",
    "\n",
    "doanhthu =int(input('Doanh thu: '))\n",
    "chiphi =int(input('Chi phi: '))\n",
    "\n",
    "def Roi(doanhthu,chiphi):\n",
    "    if ((doanhthu-chiphi)/chiphi) >= 0.75:\n",
    "        return \"Nen dau tu ban nhe. Roi(R) bang:\"+ \"{}\".format((doanhthu-chiphi)/chiphi)\n",
    "    else:\n",
    "        return \"Khong nen dau tu, se lo nha!!! Roi(R) bang:\"+ \"{}\".format((doanhthu-chiphi)/chiphi)\n",
    "\n",
    "Roi(doanhthu,chiphi)    "
   ]
  }
 ],
 "metadata": {
  "kernelspec": {
   "display_name": "Python 3 (ipykernel)",
   "language": "python",
   "name": "python3"
  },
  "language_info": {
   "codemirror_mode": {
    "name": "ipython",
    "version": 3
   },
   "file_extension": ".py",
   "mimetype": "text/x-python",
   "name": "python",
   "nbconvert_exporter": "python",
   "pygments_lexer": "ipython3",
   "version": "3.9.13"
  }
 },
 "nbformat": 4,
 "nbformat_minor": 5
}
