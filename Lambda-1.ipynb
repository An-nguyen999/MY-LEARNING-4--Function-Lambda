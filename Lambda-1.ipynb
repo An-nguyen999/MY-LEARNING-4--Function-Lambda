{
 "cells": [
  {
   "cell_type": "markdown",
   "id": "46eb642d",
   "metadata": {},
   "source": [
    "# No1."
   ]
  },
  {
   "cell_type": "markdown",
   "id": "8764df37",
   "metadata": {},
   "source": [
    "- Lambda là một hàm ẩn danh nhỏ\n",
    "- Cú pháp:\n",
    "lambda arguments : expression\n",
    "\n",
    "Link: https://www.youtube.com/watch?v=X8xISutNkVA"
   ]
  },
  {
   "cell_type": "code",
   "execution_count": 2,
   "id": "0c263344",
   "metadata": {},
   "outputs": [
    {
     "name": "stdout",
     "output_type": "stream",
     "text": [
      "False\n"
     ]
    }
   ],
   "source": [
    "ktsochan = lambda a:(a%2==0)\n",
    "print(ktsochan(5))"
   ]
  },
  {
   "cell_type": "code",
   "execution_count": 3,
   "id": "094d1fa9",
   "metadata": {},
   "outputs": [
    {
     "name": "stdout",
     "output_type": "stream",
     "text": [
      "True\n"
     ]
    }
   ],
   "source": [
    "print(ktsochan(4))"
   ]
  },
  {
   "cell_type": "code",
   "execution_count": 4,
   "id": "6ad779c2",
   "metadata": {},
   "outputs": [
    {
     "data": {
      "text/plain": [
       "15"
      ]
     },
     "execution_count": 4,
     "metadata": {},
     "output_type": "execute_result"
    }
   ],
   "source": [
    "tong = lambda a,b:a+b\n",
    "tong(5,10)"
   ]
  },
  {
   "cell_type": "code",
   "execution_count": 5,
   "id": "2e10afef",
   "metadata": {},
   "outputs": [
    {
     "data": {
      "text/plain": [
       "1"
      ]
     },
     "execution_count": 5,
     "metadata": {},
     "output_type": "execute_result"
    }
   ],
   "source": [
    "tong(-4,5)"
   ]
  },
  {
   "cell_type": "code",
   "execution_count": 6,
   "id": "ece5368b",
   "metadata": {},
   "outputs": [
    {
     "data": {
      "text/plain": [
       "15"
      ]
     },
     "execution_count": 6,
     "metadata": {},
     "output_type": "execute_result"
    }
   ],
   "source": [
    "def tong1 (a,b):\n",
    "    return a+b\n",
    "tong1(5,10)"
   ]
  },
  {
   "cell_type": "code",
   "execution_count": 11,
   "id": "9213ead6",
   "metadata": {},
   "outputs": [],
   "source": [
    "def hammu(n):\n",
    "    return lambda x:x**n\n",
    "hammu2=hammu(2)"
   ]
  },
  {
   "cell_type": "code",
   "execution_count": 12,
   "id": "530b642e",
   "metadata": {},
   "outputs": [
    {
     "name": "stdout",
     "output_type": "stream",
     "text": [
      "9\n"
     ]
    }
   ],
   "source": [
    "print(hammu2(3))"
   ]
  },
  {
   "cell_type": "code",
   "execution_count": null,
   "id": "10e729bd",
   "metadata": {},
   "outputs": [],
   "source": []
  }
 ],
 "metadata": {
  "kernelspec": {
   "display_name": "Python 3 (ipykernel)",
   "language": "python",
   "name": "python3"
  },
  "language_info": {
   "codemirror_mode": {
    "name": "ipython",
    "version": 3
   },
   "file_extension": ".py",
   "mimetype": "text/x-python",
   "name": "python",
   "nbconvert_exporter": "python",
   "pygments_lexer": "ipython3",
   "version": "3.9.13"
  }
 },
 "nbformat": 4,
 "nbformat_minor": 5
}
